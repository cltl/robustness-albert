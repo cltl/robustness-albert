{
 "cells": [
  {
   "cell_type": "markdown",
   "id": "chubby-freedom",
   "metadata": {},
   "source": [
    "# Plot Results for SST-2 Development Set \n",
    "\n",
    "In this notebook, we load all the results of the different random seeds on the development predictions. \n",
    "We print the mistakes made by the checkpoints and then investigate the agreement on mistakes between the different models with Fleiss' Kappa. "
   ]
  },
  {
   "cell_type": "markdown",
   "id": "under-picking",
   "metadata": {},
   "source": [
    "## Import and Load"
   ]
  },
  {
   "cell_type": "code",
   "execution_count": 1,
   "id": "spoken-tissue",
   "metadata": {},
   "outputs": [],
   "source": [
    "import json\n",
    "import pandas as pd\n",
    "from nltk.metrics.agreement import AnnotationTask\n",
    "from collections import Counter, defaultdict"
   ]
  },
  {
   "cell_type": "code",
   "execution_count": 2,
   "id": "considered-enemy",
   "metadata": {},
   "outputs": [],
   "source": [
    "def load_predictions_eval(file): \n",
    "    with open(file, \"r\") as f: \n",
    "        preds = json.load(f)\n",
    "        \n",
    "    return preds \n",
    "\n",
    "rs0_preds = load_predictions_eval(\"results/sst2-dev/rs0-shuffle-train-predictions.txt\")\n",
    "rs1_preds = load_predictions_eval(\"results/sst2-dev/rs1-shuffle-train-predictions.txt\")\n",
    "rs2_preds = load_predictions_eval(\"results/sst2-dev/rs2-shuffle-train-predictions.txt\")\n",
    "rs3_preds = load_predictions_eval(\"results/sst2-dev/rs3-shuffle-train-predictions.txt\")\n",
    "rs4_preds = load_predictions_eval(\"results/sst2-dev/rs4-shuffle-train-predictions.txt\")\n",
    "rs0_swa_preds = load_predictions_eval(\"results/sst2-dev/rs0-swa-linear-60-start2-drop-shuffle-predictions.txt\")\n",
    "rs1_swa_preds = load_predictions_eval(\"results/sst2-dev/rs1-swa-linear-75-start2-drop-shuffle-predictions.txt\")\n",
    "rs2_swa_preds = load_predictions_eval(\"results/sst2-dev/rs2-swa-linear-60-start2-drop-shuffle-predictions.txt\")\n",
    "rs3_swa_preds = load_predictions_eval(\"results/sst2-dev/rs3-swa-linear-60-start2-drop-shuffle-predictions.txt\")\n",
    "rs4_swa_preds = load_predictions_eval(\"results/sst2-dev/rs4-swa-linear-75-start2-drop-shuffle-predictions.txt\")"
   ]
  },
  {
   "cell_type": "code",
   "execution_count": 3,
   "id": "fewer-allergy",
   "metadata": {},
   "outputs": [],
   "source": [
    "rs5_preds = load_predictions_eval(\"results/sst2-dev/rs5-shuffle-train-4-predictions.txt\")\n",
    "rs6_preds = load_predictions_eval(\"results/sst2-dev/rs6-shuffle-train-2-predictions.txt\")\n",
    "rs7_preds = load_predictions_eval(\"results/sst2-dev/rs7-shuffle-train-2-predictions.txt\")\n",
    "rs8_preds = load_predictions_eval(\"results/sst2-dev/rs8-shuffle-train-3-predictions.txt\")\n",
    "rs9_preds = load_predictions_eval(\"results/sst2-dev/rs9-shuffle-train-4-predictions.txt\")\n",
    "rs5_swa_preds = load_predictions_eval(\"results/sst2-dev/rs5-swa-linear-60-start2-drop-shuffle-3-predictions.txt\")\n",
    "rs6_swa_preds = load_predictions_eval(\"results/sst2-dev/rs6-swa-linear-60-start2-drop-shuffle-7-predictions.txt\")\n",
    "rs7_swa_preds = load_predictions_eval(\"results/sst2-dev/rs7-swa-linear-60-start2-drop-shuffle-6-predictions.txt\")\n",
    "rs8_swa_preds = load_predictions_eval(\"results/sst2-dev/rs8-swa-linear-60-start2-drop-shuffle-4-predictions.txt\")\n",
    "rs9_swa_preds = load_predictions_eval(\"results/sst2-dev/rs9-swa-linear-75-start2-drop-shuffle-6-predictions.txt\")"
   ]
  },
  {
   "cell_type": "code",
   "execution_count": 4,
   "id": "isolated-mustang",
   "metadata": {},
   "outputs": [],
   "source": [
    "dev_df = pd.read_csv(\"~/Downloads/SST-2/dev.tsv\", sep='\\t')\n",
    "og_labels = dev_df[\"label\"].to_list()\n",
    "og_samples = dev_df[\"sentence\"].to_list()"
   ]
  },
  {
   "cell_type": "markdown",
   "id": "possible-capture",
   "metadata": {},
   "source": [
    "## Printing Mistakes of Random Seeds"
   ]
  },
  {
   "cell_type": "markdown",
   "id": "nutritional-fifty",
   "metadata": {},
   "source": [
    "### Random Seed 0"
   ]
  },
  {
   "cell_type": "code",
   "execution_count": 78,
   "id": "aquatic-penalty",
   "metadata": {
    "collapsed": true,
    "jupyter": {
     "outputs_hidden": true,
     "source_hidden": true
    }
   },
   "outputs": [
    {
     "name": "stdout",
     "output_type": "stream",
     "text": [
      "20:  pumpkin takes an admirable look at the hypocrisy of political correctness , but it does so with such an uneven tone that you never know when humor ends and tragedy begins .  label:  0 prediction:  1\n",
      "22:  holden caulfield did it better .  label:  0 prediction:  1\n",
      "44:  the title not only describes its main characters , but the lazy people behind the camera as well .  label:  0 prediction:  1\n",
      "64:  the script kicks in , and mr. hartley 's distended pace and foot-dragging rhythms follow .  label:  0 prediction:  1\n",
      "66:  if you 're hard up for raunchy college humor , this is your ticket right here .  label:  1 prediction:  0\n",
      "87:  jaglom ... put ( s ) the audience in the privileged position of eavesdropping on his characters  label:  1 prediction:  0\n",
      "92:  you wo n't like roger , but you will quickly recognize him .  label:  0 prediction:  1\n",
      "93:  if steven soderbergh 's ` solaris ' is a failure it is a glorious failure .  label:  1 prediction:  0\n",
      "95:  this riveting world war ii moral suspense story deals with the shadow side of american culture : racial prejudice in its ugly and diverse forms .  label:  0 prediction:  1\n",
      "96:  it 's difficult to imagine the process that produced such a script , but here 's guessing that spray cheese and underarm noises played a crucial role .  label:  0 prediction:  1\n",
      "112:  hilariously inept and ridiculous .  label:  1 prediction:  0\n",
      "118:  every nanosecond of the the new guy reminds you that you could be doing something else far more pleasurable .  label:  0 prediction:  1\n",
      "121:  it seems to me the film is about the art of ripping people off without ever letting them consciously know you have done so  label:  0 prediction:  1\n",
      "123:  turns potentially forgettable formula into something strangely diverting .  label:  1 prediction:  0\n",
      "142:  what better message than ` love thyself ' could young women of any size receive ?  label:  1 prediction:  0\n",
      "157:  it takes talent to make a lifeless movie about the most heinous man who ever lived .  label:  0 prediction:  1\n",
      "158:  by getting myself wrapped up in the visuals and eccentricities of many of the characters , i found myself confused when it came time to get to the heart of the movie .  label:  0 prediction:  1\n",
      "171:  rarely has leukemia looked so shimmering and benign .  label:  0 prediction:  1\n",
      "172:  it seems like i have been waiting my whole life for this movie and now i ca n't wait for the sequel .  label:  1 prediction:  0\n",
      "204:  that dogged good will of the parents and ` vain ' jia 's defoliation of ego , make the film touching despite some doldrums .  label:  1 prediction:  0\n",
      "211:  to say this was done better in wilder 's some like it hot is like saying the sun rises in the east .  label:  0 prediction:  1\n",
      "218:  all that 's missing is the spontaneity , originality and delight .  label:  0 prediction:  1\n",
      "248:  a full world has been presented onscreen , not some series of carefully structured plot points building to a pat resolution .  label:  1 prediction:  0\n",
      "266:  a coda in every sense , the pinochet case splits time between a minute-by-minute account of the british court 's extradition chess game and the regime 's talking-head survivors .  label:  1 prediction:  0\n",
      "267:  it 's played in the most straight-faced fashion , with little humor to lighten things up .  label:  0 prediction:  1\n",
      "271:  as unseemly as its title suggests .  label:  1 prediction:  0\n",
      "273:  minority report is exactly what the title indicates , a report .  label:  1 prediction:  0\n",
      "292:  the story and the friendship proceeds in such a way that you 're watching a soap opera rather than a chronicle of the ups and downs that accompany lifelong friendships .  label:  0 prediction:  1\n",
      "310:  if you can stomach the rough content , it 's worth checking out for the performances alone .  label:  1 prediction:  0\n",
      "312:  i 'll bet the video game is a lot more fun than the film .  label:  0 prediction:  1\n",
      "324:  you 'll gasp appalled and laugh outraged and possibly , watching the spectacle of a promising young lad treading desperately in a nasty sea , shed an errant tear .  label:  1 prediction:  0\n",
      "341:  it deserves to be seen by anyone with even a passing interest in the events shaping the world beyond their own horizons .  label:  1 prediction:  0\n",
      "358:  ( d ) oes n't bother being as cloying or preachy as equivalent evangelical christian movies -- maybe the filmmakers know that the likely audience will already be among the faithful .  label:  1 prediction:  0\n",
      "372:  the special effects and many scenes of weightlessness look as good or better than in the original , while the oscar-winning sound and james horner 's rousing score make good use of the hefty audio system .  label:  1 prediction:  0\n",
      "382:  a great ensemble cast ca n't lift this heartfelt enterprise out of the familiar .  label:  0 prediction:  1\n",
      "405:  outer-space buffs might love this film , but others will find its pleasures intermittent .  label:  0 prediction:  1\n",
      "411:  i do n't mind having my heartstrings pulled , but do n't treat me like a fool .  label:  0 prediction:  1\n",
      "448:  something akin to a japanese alice through the looking glass , except that it seems to take itself far more seriously .  label:  1 prediction:  0\n",
      "449:  oh come on .  label:  0 prediction:  1\n",
      "464:  intriguing documentary which is emotionally diluted by focusing on the story 's least interesting subject .  label:  1 prediction:  0\n",
      "478:  a by-the-numbers patient/doctor pic that covers all the usual ground  label:  0 prediction:  1\n",
      "487:  ( e ) ventually , every idea in this film is flushed down the latrine of heroism .  label:  0 prediction:  1\n",
      "494:  it showcases carvey 's talent for voices , but not nearly enough and not without taxing every drop of one 's patience to get to the good stuff .  label:  0 prediction:  1\n",
      "501:  harrison 's flowers puts its heart in the right place , but its brains are in no particular place at all .  label:  1 prediction:  0\n",
      "503:  dragonfly has no atmosphere , no tension -- nothing but costner , flailing away .  label:  0 prediction:  1\n",
      "519:  moretti 's compelling anatomy of grief and the difficult process of adapting to loss .  label:  0 prediction:  1\n",
      "527:  it has all the excitement of eating oatmeal .  label:  0 prediction:  1\n",
      "544:  although huppert 's intensity and focus has a raw exhilaration about it , the piano teacher is anything but fun .  label:  0 prediction:  1\n",
      "546:  on the heels of the ring comes a similarly morose and humorless horror movie that , although flawed , is to be commended for its straight-ahead approach to creepiness .  label:  1 prediction:  0\n",
      "559:  if the first men in black was money , the second is small change .  label:  0 prediction:  1\n",
      "561:  another one of those estrogen overdose movies like `` divine secrets of the ya ya sisterhood , '' except that the writing , acting and character development are a lot better .  label:  1 prediction:  0\n",
      "579:  every dance becomes about seduction , where backstabbing and betrayals are celebrated , and sex is currency .  label:  0 prediction:  1\n",
      "600:  professionally speaking , it 's tempting to jump ship in january to avoid ridiculous schlock like this shoddy suspense thriller .  label:  0 prediction:  1\n",
      "604:  vera 's technical prowess ends up selling his film short ; he smoothes over hard truths even as he uncovers them .  label:  0 prediction:  1\n",
      "615:  as the latest bid in the tv-to-movie franchise game , i spy makes its big-screen entry with little of the nervy originality of its groundbreaking small-screen progenitor .  label:  0 prediction:  1\n",
      "617:  the so-inept - it 's - surreal dubbing ( featuring the voices of glenn close , regis philbin and breckin meyer ) brings back memories of cheesy old godzilla flicks .  label:  0 prediction:  1\n",
      "643:  the jabs it employs are short , carefully placed and dead-center .  label:  1 prediction:  0\n",
      "646:  the longer the movie goes , the worse it gets , but it 's actually pretty good in the first few minutes .  label:  0 prediction:  1\n",
      "648:  further proof that the epicenter of cool , beautiful , thought-provoking foreign cinema is smack-dab in the middle of dubya 's axis of evil .  label:  1 prediction:  0\n",
      "656:  so much facile technique , such cute ideas , so little movie .  label:  1 prediction:  0\n",
      "667:  good film , but very glum .  label:  1 prediction:  0\n",
      "673:  drops you into a dizzying , volatile , pressure-cooker of a situation that quickly snowballs out of control , while focusing on the what much more than the why .  label:  1 prediction:  0\n",
      "685:  no screen fantasy-adventure in recent memory has the showmanship of clones ' last 45 minutes .  label:  1 prediction:  0\n",
      "695:  sit through this one , and you wo n't need a magic watch to stop time ; your dvd player will do it for you .  label:  0 prediction:  1\n",
      "699:  ... routine , harmless diversion and little else .  label:  1 prediction:  0\n",
      "702:  the reality of the new live-action pinocchio he directed , cowrote and starred in borders on the grotesque .  label:  0 prediction:  1\n",
      "735:  the experience of going to a film festival is a rewarding one ; the experiencing of sampling one through this movie is not .  label:  0 prediction:  1\n",
      "736:  american chai encourages rueful laughter at stereotypes only an indian-american would recognize .  label:  0 prediction:  1\n",
      "753:  it 's hard to imagine alan arkin being better than he is in this performance .  label:  1 prediction:  0\n",
      "760:  writer/director joe carnahan 's grimy crime drama is a manual of precinct cliches , but it moves fast enough to cover its clunky dialogue and lapses in logic .  label:  1 prediction:  0\n",
      "764:  movie fans , get ready to take off ... the other direction .  label:  0 prediction:  1\n",
      "771:  very special effects , brilliantly bold colors and heightened reality ca n't hide the giant achilles ' heel in `` stuart little 2 `` : there 's just no story , folks .  label:  0 prediction:  1\n",
      "785:  aside from minor tinkering , this is the same movie you probably loved in 1994 , except that it looks even better .  label:  1 prediction:  0\n",
      "791:  it 's somewhat clumsy and too lethargically paced -- but its story about a mysterious creature with psychic abilities offers a solid build-up , a terrific climax , and some nice chills along the way .  label:  0 prediction:  1\n",
      "801:  this film seems thirsty for reflection , itself taking on adolescent qualities .  label:  0 prediction:  1\n",
      "805:  irwin is a man with enough charisma and audacity to carry a dozen films , but this particular result is ultimately held back from being something greater .  label:  0 prediction:  1\n",
      "832:  manages to show life in all of its banality when the intention is quite the opposite .  label:  0 prediction:  1\n",
      "842:  a better title , for all concerned , might be swept under the rug .  label:  0 prediction:  1\n",
      "846:  an absurdist comedy about alienation , separation and loss .  label:  0 prediction:  1\n",
      "862:  it 's inoffensive , cheerful , built to inspire the young people , set to an unending soundtrack of beach party pop numbers and aside from its remarkable camerawork and awesome scenery , it 's about as exciting as a sunburn .  label:  0 prediction:  1\n"
     ]
    }
   ],
   "source": [
    "# Printing all the mistakes\n",
    "model_idxs = []\n",
    "for i, pred in enumerate(rs0_preds):\n",
    "    if og_labels[i] != pred:\n",
    "        print(f\"{i}: \", og_samples[i], \"label: \", og_labels[i], \"prediction: \", pred)"
   ]
  },
  {
   "cell_type": "markdown",
   "id": "circular-mechanism",
   "metadata": {},
   "source": [
    "### Random Seed 1"
   ]
  },
  {
   "cell_type": "code",
   "execution_count": 79,
   "id": "impressed-flower",
   "metadata": {
    "collapsed": true,
    "jupyter": {
     "outputs_hidden": true,
     "source_hidden": true
    }
   },
   "outputs": [
    {
     "name": "stdout",
     "output_type": "stream",
     "text": [
      "62:  the primitive force of this film seems to bubble up from the vast collective memory of the combatants .  label:  1 prediction:  0\n",
      "92:  you wo n't like roger , but you will quickly recognize him .  label:  0 prediction:  1\n",
      "93:  if steven soderbergh 's ` solaris ' is a failure it is a glorious failure .  label:  1 prediction:  0\n",
      "95:  this riveting world war ii moral suspense story deals with the shadow side of american culture : racial prejudice in its ugly and diverse forms .  label:  0 prediction:  1\n",
      "102:  does paint some memorable images ... , but makhmalbaf keeps her distance from the characters  label:  1 prediction:  0\n",
      "112:  hilariously inept and ridiculous .  label:  1 prediction:  0\n",
      "118:  every nanosecond of the the new guy reminds you that you could be doing something else far more pleasurable .  label:  0 prediction:  1\n",
      "123:  turns potentially forgettable formula into something strangely diverting .  label:  1 prediction:  0\n",
      "183:  the lower your expectations , the more you 'll enjoy it .  label:  0 prediction:  1\n",
      "200:  the format gets used best ... to capture the dizzying heights achieved by motocross and bmx riders , whose balletic hotdogging occasionally ends in bone-crushing screwups .  label:  1 prediction:  0\n",
      "230:  reign of fire looks as if it was made without much thought -- and is best watched that way .  label:  1 prediction:  0\n",
      "266:  a coda in every sense , the pinochet case splits time between a minute-by-minute account of the british court 's extradition chess game and the regime 's talking-head survivors .  label:  1 prediction:  0\n",
      "267:  it 's played in the most straight-faced fashion , with little humor to lighten things up .  label:  0 prediction:  1\n",
      "271:  as unseemly as its title suggests .  label:  1 prediction:  0\n",
      "273:  minority report is exactly what the title indicates , a report .  label:  1 prediction:  0\n",
      "274:  it 's hard to like a film about a guy who is utterly unlikeable , and shiner , starring michael caine as an aging british boxing promoter desperate for a taste of fame and fortune , is certainly that .  label:  0 prediction:  1\n",
      "282:  while there 's something intrinsically funny about sir anthony hopkins saying ` get in the car , bitch , ' this jerry bruckheimer production has little else to offer  label:  1 prediction:  0\n",
      "312:  i 'll bet the video game is a lot more fun than the film .  label:  0 prediction:  1\n",
      "358:  ( d ) oes n't bother being as cloying or preachy as equivalent evangelical christian movies -- maybe the filmmakers know that the likely audience will already be among the faithful .  label:  1 prediction:  0\n",
      "399:  if director michael dowse only superficially understands his characters , he does n't hold them in contempt .  label:  0 prediction:  1\n",
      "411:  i do n't mind having my heartstrings pulled , but do n't treat me like a fool .  label:  0 prediction:  1\n",
      "433:  the lion king was a roaring success when it was released eight years ago , but on imax it seems better , not just bigger .  label:  1 prediction:  0\n",
      "448:  something akin to a japanese alice through the looking glass , except that it seems to take itself far more seriously .  label:  1 prediction:  0\n",
      "464:  intriguing documentary which is emotionally diluted by focusing on the story 's least interesting subject .  label:  1 prediction:  0\n",
      "501:  harrison 's flowers puts its heart in the right place , but its brains are in no particular place at all .  label:  1 prediction:  0\n",
      "519:  moretti 's compelling anatomy of grief and the difficult process of adapting to loss .  label:  0 prediction:  1\n",
      "561:  another one of those estrogen overdose movies like `` divine secrets of the ya ya sisterhood , '' except that the writing , acting and character development are a lot better .  label:  1 prediction:  0\n",
      "579:  every dance becomes about seduction , where backstabbing and betrayals are celebrated , and sex is currency .  label:  0 prediction:  1\n",
      "645:  the words , ` frankly , my dear , i do n't give a damn , ' have never been more appropriate .  label:  0 prediction:  1\n",
      "646:  the longer the movie goes , the worse it gets , but it 's actually pretty good in the first few minutes .  label:  0 prediction:  1\n",
      "656:  so much facile technique , such cute ideas , so little movie .  label:  1 prediction:  0\n",
      "667:  good film , but very glum .  label:  1 prediction:  0\n",
      "673:  drops you into a dizzying , volatile , pressure-cooker of a situation that quickly snowballs out of control , while focusing on the what much more than the why .  label:  1 prediction:  0\n",
      "685:  no screen fantasy-adventure in recent memory has the showmanship of clones ' last 45 minutes .  label:  1 prediction:  0\n",
      "695:  sit through this one , and you wo n't need a magic watch to stop time ; your dvd player will do it for you .  label:  0 prediction:  1\n",
      "699:  ... routine , harmless diversion and little else .  label:  1 prediction:  0\n",
      "702:  the reality of the new live-action pinocchio he directed , cowrote and starred in borders on the grotesque .  label:  0 prediction:  1\n",
      "749:  a working class `` us vs. them '' opera that leaves no heartstring untugged and no liberal cause unplundered .  label:  1 prediction:  0\n",
      "771:  very special effects , brilliantly bold colors and heightened reality ca n't hide the giant achilles ' heel in `` stuart little 2 `` : there 's just no story , folks .  label:  0 prediction:  1\n",
      "782:  the structure the film takes may find matt damon and ben affleck once again looking for residuals as this officially completes a good will hunting trilogy that was never planned .  label:  1 prediction:  0\n",
      "791:  it 's somewhat clumsy and too lethargically paced -- but its story about a mysterious creature with psychic abilities offers a solid build-up , a terrific climax , and some nice chills along the way .  label:  0 prediction:  1\n",
      "846:  an absurdist comedy about alienation , separation and loss .  label:  0 prediction:  1\n",
      "850:  miller is playing so free with emotions , and the fact that children are hostages to fortune , that he makes the audience hostage to his swaggering affectation of seriousness .  label:  1 prediction:  0\n"
     ]
    }
   ],
   "source": [
    "model_idxs = []\n",
    "for i, pred in enumerate(rs1_preds):\n",
    "    if og_labels[i] != pred:\n",
    "        print(f\"{i}: \", og_samples[i], \"label: \", og_labels[i], \"prediction: \", pred)"
   ]
  },
  {
   "cell_type": "markdown",
   "id": "christian-texas",
   "metadata": {},
   "source": [
    "### Random Seed 2"
   ]
  },
  {
   "cell_type": "code",
   "execution_count": 80,
   "id": "acknowledged-teacher",
   "metadata": {
    "collapsed": true,
    "jupyter": {
     "outputs_hidden": true,
     "source_hidden": true
    }
   },
   "outputs": [
    {
     "name": "stdout",
     "output_type": "stream",
     "text": [
      "85:  the movie achieves as great an impact by keeping these thoughts hidden as ... ( quills ) did by showing them .  label:  1 prediction:  0\n",
      "92:  you wo n't like roger , but you will quickly recognize him .  label:  0 prediction:  1\n",
      "93:  if steven soderbergh 's ` solaris ' is a failure it is a glorious failure .  label:  1 prediction:  0\n",
      "95:  this riveting world war ii moral suspense story deals with the shadow side of american culture : racial prejudice in its ugly and diverse forms .  label:  0 prediction:  1\n",
      "102:  does paint some memorable images ... , but makhmalbaf keeps her distance from the characters  label:  1 prediction:  0\n",
      "112:  hilariously inept and ridiculous .  label:  1 prediction:  0\n",
      "123:  turns potentially forgettable formula into something strangely diverting .  label:  1 prediction:  0\n",
      "149:  the volatile dynamics of female friendship is the subject of this unhurried , low-key film that is so off-hollywood that it seems positively french in its rhythms and resonance .  label:  1 prediction:  0\n",
      "171:  rarely has leukemia looked so shimmering and benign .  label:  0 prediction:  1\n",
      "183:  the lower your expectations , the more you 'll enjoy it .  label:  0 prediction:  1\n",
      "200:  the format gets used best ... to capture the dizzying heights achieved by motocross and bmx riders , whose balletic hotdogging occasionally ends in bone-crushing screwups .  label:  1 prediction:  0\n",
      "218:  all that 's missing is the spontaneity , originality and delight .  label:  0 prediction:  1\n",
      "230:  reign of fire looks as if it was made without much thought -- and is best watched that way .  label:  1 prediction:  0\n",
      "266:  a coda in every sense , the pinochet case splits time between a minute-by-minute account of the british court 's extradition chess game and the regime 's talking-head survivors .  label:  1 prediction:  0\n",
      "271:  as unseemly as its title suggests .  label:  1 prediction:  0\n",
      "273:  minority report is exactly what the title indicates , a report .  label:  1 prediction:  0\n",
      "274:  it 's hard to like a film about a guy who is utterly unlikeable , and shiner , starring michael caine as an aging british boxing promoter desperate for a taste of fame and fortune , is certainly that .  label:  0 prediction:  1\n",
      "282:  while there 's something intrinsically funny about sir anthony hopkins saying ` get in the car , bitch , ' this jerry bruckheimer production has little else to offer  label:  1 prediction:  0\n",
      "301:  the x potion gives the quickly named blossom , bubbles and buttercup supernatural powers that include extraordinary strength and laser-beam eyes , which unfortunately do n't enable them to discern flimsy screenplays .  label:  0 prediction:  1\n",
      "358:  ( d ) oes n't bother being as cloying or preachy as equivalent evangelical christian movies -- maybe the filmmakers know that the likely audience will already be among the faithful .  label:  1 prediction:  0\n",
      "399:  if director michael dowse only superficially understands his characters , he does n't hold them in contempt .  label:  0 prediction:  1\n",
      "411:  i do n't mind having my heartstrings pulled , but do n't treat me like a fool .  label:  0 prediction:  1\n",
      "433:  the lion king was a roaring success when it was released eight years ago , but on imax it seems better , not just bigger .  label:  1 prediction:  0\n",
      "447:  generally , clockstoppers will fulfill your wildest fantasies about being a different kind of time traveler , while happily killing 94 minutes .  label:  1 prediction:  0\n",
      "448:  something akin to a japanese alice through the looking glass , except that it seems to take itself far more seriously .  label:  1 prediction:  0\n",
      "464:  intriguing documentary which is emotionally diluted by focusing on the story 's least interesting subject .  label:  1 prediction:  0\n",
      "494:  it showcases carvey 's talent for voices , but not nearly enough and not without taxing every drop of one 's patience to get to the good stuff .  label:  0 prediction:  1\n",
      "501:  harrison 's flowers puts its heart in the right place , but its brains are in no particular place at all .  label:  1 prediction:  0\n",
      "519:  moretti 's compelling anatomy of grief and the difficult process of adapting to loss .  label:  0 prediction:  1\n",
      "546:  on the heels of the ring comes a similarly morose and humorless horror movie that , although flawed , is to be commended for its straight-ahead approach to creepiness .  label:  1 prediction:  0\n",
      "561:  another one of those estrogen overdose movies like `` divine secrets of the ya ya sisterhood , '' except that the writing , acting and character development are a lot better .  label:  1 prediction:  0\n",
      "579:  every dance becomes about seduction , where backstabbing and betrayals are celebrated , and sex is currency .  label:  0 prediction:  1\n",
      "626:  this flick is about as cool and crowd-pleasing as a documentary can get .  label:  1 prediction:  0\n",
      "656:  so much facile technique , such cute ideas , so little movie .  label:  1 prediction:  0\n",
      "667:  good film , but very glum .  label:  1 prediction:  0\n",
      "670:  verbinski implements every hack-artist trick to give us the ooky-spookies .  label:  0 prediction:  1\n",
      "673:  drops you into a dizzying , volatile , pressure-cooker of a situation that quickly snowballs out of control , while focusing on the what much more than the why .  label:  1 prediction:  0\n",
      "685:  no screen fantasy-adventure in recent memory has the showmanship of clones ' last 45 minutes .  label:  1 prediction:  0\n",
      "699:  ... routine , harmless diversion and little else .  label:  1 prediction:  0\n",
      "702:  the reality of the new live-action pinocchio he directed , cowrote and starred in borders on the grotesque .  label:  0 prediction:  1\n",
      "749:  a working class `` us vs. them '' opera that leaves no heartstring untugged and no liberal cause unplundered .  label:  1 prediction:  0\n",
      "764:  movie fans , get ready to take off ... the other direction .  label:  0 prediction:  1\n",
      "782:  the structure the film takes may find matt damon and ben affleck once again looking for residuals as this officially completes a good will hunting trilogy that was never planned .  label:  1 prediction:  0\n",
      "785:  aside from minor tinkering , this is the same movie you probably loved in 1994 , except that it looks even better .  label:  1 prediction:  0\n",
      "791:  it 's somewhat clumsy and too lethargically paced -- but its story about a mysterious creature with psychic abilities offers a solid build-up , a terrific climax , and some nice chills along the way .  label:  0 prediction:  1\n",
      "823:  it wants to tweak them with a taste of tangy new humor .  label:  1 prediction:  0\n",
      "827:  the movie , directed by mick jackson , leaves no cliche unturned , from the predictable plot to the characters straight out of central casting .  label:  0 prediction:  1\n",
      "850:  miller is playing so free with emotions , and the fact that children are hostages to fortune , that he makes the audience hostage to his swaggering affectation of seriousness .  label:  1 prediction:  0\n"
     ]
    }
   ],
   "source": [
    "model_idxs = []\n",
    "for i, pred in enumerate(rs2_preds):\n",
    "    if og_labels[i] != pred:\n",
    "        print(f\"{i}: \", og_samples[i], \"label: \", og_labels[i], \"prediction: \", pred)"
   ]
  },
  {
   "cell_type": "markdown",
   "id": "tracked-advocacy",
   "metadata": {},
   "source": [
    "### Random Seed 3"
   ]
  },
  {
   "cell_type": "code",
   "execution_count": 81,
   "id": "tamil-nylon",
   "metadata": {
    "collapsed": true,
    "jupyter": {
     "outputs_hidden": true,
     "source_hidden": true
    }
   },
   "outputs": [
    {
     "name": "stdout",
     "output_type": "stream",
     "text": [
      "66:  if you 're hard up for raunchy college humor , this is your ticket right here .  label:  1 prediction:  0\n",
      "92:  you wo n't like roger , but you will quickly recognize him .  label:  0 prediction:  1\n",
      "93:  if steven soderbergh 's ` solaris ' is a failure it is a glorious failure .  label:  1 prediction:  0\n",
      "95:  this riveting world war ii moral suspense story deals with the shadow side of american culture : racial prejudice in its ugly and diverse forms .  label:  0 prediction:  1\n",
      "112:  hilariously inept and ridiculous .  label:  1 prediction:  0\n",
      "123:  turns potentially forgettable formula into something strangely diverting .  label:  1 prediction:  0\n",
      "143:  a solid film ... but more conscientious than it is truly stirring .  label:  1 prediction:  0\n",
      "149:  the volatile dynamics of female friendship is the subject of this unhurried , low-key film that is so off-hollywood that it seems positively french in its rhythms and resonance .  label:  1 prediction:  0\n",
      "171:  rarely has leukemia looked so shimmering and benign .  label:  0 prediction:  1\n",
      "183:  the lower your expectations , the more you 'll enjoy it .  label:  0 prediction:  1\n",
      "200:  the format gets used best ... to capture the dizzying heights achieved by motocross and bmx riders , whose balletic hotdogging occasionally ends in bone-crushing screwups .  label:  1 prediction:  0\n",
      "223:  corny , schmaltzy and predictable , but still manages to be kind of heartwarming , nonetheless .  label:  1 prediction:  0\n",
      "230:  reign of fire looks as if it was made without much thought -- and is best watched that way .  label:  1 prediction:  0\n",
      "266:  a coda in every sense , the pinochet case splits time between a minute-by-minute account of the british court 's extradition chess game and the regime 's talking-head survivors .  label:  1 prediction:  0\n",
      "271:  as unseemly as its title suggests .  label:  1 prediction:  0\n",
      "273:  minority report is exactly what the title indicates , a report .  label:  1 prediction:  0\n",
      "281:  chokes on its own depiction of upper-crust decorum .  label:  0 prediction:  1\n",
      "282:  while there 's something intrinsically funny about sir anthony hopkins saying ` get in the car , bitch , ' this jerry bruckheimer production has little else to offer  label:  1 prediction:  0\n",
      "294:  the old-world - meets-new mesh is incarnated in the movie 's soundtrack , a joyful effusion of disco bollywood that , by the end of monsoon wedding , sent my spirit soaring out of the theater .  label:  1 prediction:  0\n",
      "299:  the sort of film that makes me miss hitchcock , but also feel optimistic that there 's hope for popular cinema yet .  label:  1 prediction:  0\n",
      "358:  ( d ) oes n't bother being as cloying or preachy as equivalent evangelical christian movies -- maybe the filmmakers know that the likely audience will already be among the faithful .  label:  1 prediction:  0\n",
      "398:  despite its title , punch-drunk love is never heavy-handed .  label:  1 prediction:  0\n",
      "399:  if director michael dowse only superficially understands his characters , he does n't hold them in contempt .  label:  0 prediction:  1\n",
      "448:  something akin to a japanese alice through the looking glass , except that it seems to take itself far more seriously .  label:  1 prediction:  0\n",
      "464:  intriguing documentary which is emotionally diluted by focusing on the story 's least interesting subject .  label:  1 prediction:  0\n",
      "501:  harrison 's flowers puts its heart in the right place , but its brains are in no particular place at all .  label:  1 prediction:  0\n",
      "519:  moretti 's compelling anatomy of grief and the difficult process of adapting to loss .  label:  0 prediction:  1\n",
      "561:  another one of those estrogen overdose movies like `` divine secrets of the ya ya sisterhood , '' except that the writing , acting and character development are a lot better .  label:  1 prediction:  0\n",
      "579:  every dance becomes about seduction , where backstabbing and betrayals are celebrated , and sex is currency .  label:  0 prediction:  1\n",
      "643:  the jabs it employs are short , carefully placed and dead-center .  label:  1 prediction:  0\n",
      "656:  so much facile technique , such cute ideas , so little movie .  label:  1 prediction:  0\n",
      "667:  good film , but very glum .  label:  1 prediction:  0\n",
      "673:  drops you into a dizzying , volatile , pressure-cooker of a situation that quickly snowballs out of control , while focusing on the what much more than the why .  label:  1 prediction:  0\n",
      "685:  no screen fantasy-adventure in recent memory has the showmanship of clones ' last 45 minutes .  label:  1 prediction:  0\n",
      "691:  an effectively creepy , fear-inducing ( not fear-reducing ) film from japanese director hideo nakata , who takes the superstitious curse on chain letters and actually applies it .  label:  1 prediction:  0\n",
      "699:  ... routine , harmless diversion and little else .  label:  1 prediction:  0\n",
      "749:  a working class `` us vs. them '' opera that leaves no heartstring untugged and no liberal cause unplundered .  label:  1 prediction:  0\n",
      "760:  writer/director joe carnahan 's grimy crime drama is a manual of precinct cliches , but it moves fast enough to cover its clunky dialogue and lapses in logic .  label:  1 prediction:  0\n",
      "764:  movie fans , get ready to take off ... the other direction .  label:  0 prediction:  1\n",
      "782:  the structure the film takes may find matt damon and ben affleck once again looking for residuals as this officially completes a good will hunting trilogy that was never planned .  label:  1 prediction:  0\n",
      "791:  it 's somewhat clumsy and too lethargically paced -- but its story about a mysterious creature with psychic abilities offers a solid build-up , a terrific climax , and some nice chills along the way .  label:  0 prediction:  1\n",
      "846:  an absurdist comedy about alienation , separation and loss .  label:  0 prediction:  1\n",
      "850:  miller is playing so free with emotions , and the fact that children are hostages to fortune , that he makes the audience hostage to his swaggering affectation of seriousness .  label:  1 prediction:  0\n"
     ]
    }
   ],
   "source": [
    "model_idxs = []\n",
    "for i, pred in enumerate(rs3_preds):\n",
    "    if og_labels[i] != pred:\n",
    "        print(f\"{i}: \", og_samples[i], \"label: \", og_labels[i], \"prediction: \", pred)"
   ]
  },
  {
   "cell_type": "markdown",
   "id": "velvet-norman",
   "metadata": {},
   "source": [
    "### Random Seed 4"
   ]
  },
  {
   "cell_type": "code",
   "execution_count": 82,
   "id": "respiratory-appointment",
   "metadata": {
    "collapsed": true,
    "jupyter": {
     "outputs_hidden": true,
     "source_hidden": true
    }
   },
   "outputs": [
    {
     "name": "stdout",
     "output_type": "stream",
     "text": [
      "92:  you wo n't like roger , but you will quickly recognize him .  label:  0 prediction:  1\n",
      "93:  if steven soderbergh 's ` solaris ' is a failure it is a glorious failure .  label:  1 prediction:  0\n",
      "95:  this riveting world war ii moral suspense story deals with the shadow side of american culture : racial prejudice in its ugly and diverse forms .  label:  0 prediction:  1\n",
      "112:  hilariously inept and ridiculous .  label:  1 prediction:  0\n",
      "139:  it 's not the ultimate depression-era gangster movie .  label:  0 prediction:  1\n",
      "149:  the volatile dynamics of female friendship is the subject of this unhurried , low-key film that is so off-hollywood that it seems positively french in its rhythms and resonance .  label:  1 prediction:  0\n",
      "171:  rarely has leukemia looked so shimmering and benign .  label:  0 prediction:  1\n",
      "183:  the lower your expectations , the more you 'll enjoy it .  label:  0 prediction:  1\n",
      "189:  its story may be a thousand years old , but why did it have to seem like it took another thousand to tell it to us ?  label:  0 prediction:  1\n",
      "192:  a celebration of quirkiness , eccentricity , and certain individuals ' tendency to let it all hang out , and damn the consequences .  label:  1 prediction:  0\n",
      "199:  at the very least , if you do n't know anything about derrida when you walk into the theater , you wo n't know much more when you leave .  label:  0 prediction:  1\n",
      "200:  the format gets used best ... to capture the dizzying heights achieved by motocross and bmx riders , whose balletic hotdogging occasionally ends in bone-crushing screwups .  label:  1 prediction:  0\n",
      "230:  reign of fire looks as if it was made without much thought -- and is best watched that way .  label:  1 prediction:  0\n",
      "266:  a coda in every sense , the pinochet case splits time between a minute-by-minute account of the british court 's extradition chess game and the regime 's talking-head survivors .  label:  1 prediction:  0\n",
      "271:  as unseemly as its title suggests .  label:  1 prediction:  0\n",
      "273:  minority report is exactly what the title indicates , a report .  label:  1 prediction:  0\n",
      "274:  it 's hard to like a film about a guy who is utterly unlikeable , and shiner , starring michael caine as an aging british boxing promoter desperate for a taste of fame and fortune , is certainly that .  label:  0 prediction:  1\n",
      "282:  while there 's something intrinsically funny about sir anthony hopkins saying ` get in the car , bitch , ' this jerry bruckheimer production has little else to offer  label:  1 prediction:  0\n",
      "301:  the x potion gives the quickly named blossom , bubbles and buttercup supernatural powers that include extraordinary strength and laser-beam eyes , which unfortunately do n't enable them to discern flimsy screenplays .  label:  0 prediction:  1\n",
      "323:  a painfully funny ode to bad behavior .  label:  1 prediction:  0\n",
      "382:  a great ensemble cast ca n't lift this heartfelt enterprise out of the familiar .  label:  0 prediction:  1\n",
      "399:  if director michael dowse only superficially understands his characters , he does n't hold them in contempt .  label:  0 prediction:  1\n",
      "464:  intriguing documentary which is emotionally diluted by focusing on the story 's least interesting subject .  label:  1 prediction:  0\n",
      "494:  it showcases carvey 's talent for voices , but not nearly enough and not without taxing every drop of one 's patience to get to the good stuff .  label:  0 prediction:  1\n",
      "495:  light years / several warp speeds / levels and levels of dilithium crystals better than the pitiful insurrection .  label:  1 prediction:  0\n",
      "501:  harrison 's flowers puts its heart in the right place , but its brains are in no particular place at all .  label:  1 prediction:  0\n",
      "515:  if looking for a thrilling sci-fi cinematic ride , do n't settle for this imposter .  label:  0 prediction:  1\n",
      "519:  moretti 's compelling anatomy of grief and the difficult process of adapting to loss .  label:  0 prediction:  1\n",
      "543:  for each chuckle there are at least 10 complete misses , many coming from the amazingly lifelike tara reid , whose acting skills are comparable to a cardboard cutout .  label:  0 prediction:  1\n",
      "561:  another one of those estrogen overdose movies like `` divine secrets of the ya ya sisterhood , '' except that the writing , acting and character development are a lot better .  label:  1 prediction:  0\n",
      "579:  every dance becomes about seduction , where backstabbing and betrayals are celebrated , and sex is currency .  label:  0 prediction:  1\n",
      "638:  my wife is an actress is an utterly charming french comedy that feels so american in sensibility and style it 's virtually its own hollywood remake .  label:  1 prediction:  0\n",
      "643:  the jabs it employs are short , carefully placed and dead-center .  label:  1 prediction:  0\n",
      "648:  further proof that the epicenter of cool , beautiful , thought-provoking foreign cinema is smack-dab in the middle of dubya 's axis of evil .  label:  1 prediction:  0\n",
      "656:  so much facile technique , such cute ideas , so little movie .  label:  1 prediction:  0\n",
      "667:  good film , but very glum .  label:  1 prediction:  0\n",
      "695:  sit through this one , and you wo n't need a magic watch to stop time ; your dvd player will do it for you .  label:  0 prediction:  1\n",
      "699:  ... routine , harmless diversion and little else .  label:  1 prediction:  0\n",
      "724:  it 's everything you do n't go to the movies for .  label:  0 prediction:  1\n",
      "741:  but it still jingles in the pocket .  label:  1 prediction:  0\n",
      "749:  a working class `` us vs. them '' opera that leaves no heartstring untugged and no liberal cause unplundered .  label:  1 prediction:  0\n",
      "791:  it 's somewhat clumsy and too lethargically paced -- but its story about a mysterious creature with psychic abilities offers a solid build-up , a terrific climax , and some nice chills along the way .  label:  0 prediction:  1\n",
      "801:  this film seems thirsty for reflection , itself taking on adolescent qualities .  label:  0 prediction:  1\n",
      "827:  the movie , directed by mick jackson , leaves no cliche unturned , from the predictable plot to the characters straight out of central casting .  label:  0 prediction:  1\n",
      "830:  woody allen 's latest is an ambling , broad comedy about all there is to love -- and hate -- about the movie biz .  label:  1 prediction:  0\n",
      "832:  manages to show life in all of its banality when the intention is quite the opposite .  label:  0 prediction:  1\n",
      "850:  miller is playing so free with emotions , and the fact that children are hostages to fortune , that he makes the audience hostage to his swaggering affectation of seriousness .  label:  1 prediction:  0\n",
      "862:  it 's inoffensive , cheerful , built to inspire the young people , set to an unending soundtrack of beach party pop numbers and aside from its remarkable camerawork and awesome scenery , it 's about as exciting as a sunburn .  label:  0 prediction:  1\n"
     ]
    }
   ],
   "source": [
    "model_idxs = []\n",
    "for i, pred in enumerate(rs4_preds):\n",
    "    if og_labels[i] != pred:\n",
    "        print(f\"{i}: \", og_samples[i], \"label: \", og_labels[i], \"prediction: \", pred)"
   ]
  },
  {
   "cell_type": "markdown",
   "id": "former-treaty",
   "metadata": {},
   "source": [
    "### Random Seed SWA 0"
   ]
  },
  {
   "cell_type": "code",
   "execution_count": 83,
   "id": "dressed-float",
   "metadata": {
    "collapsed": true,
    "jupyter": {
     "outputs_hidden": true
    }
   },
   "outputs": [
    {
     "name": "stdout",
     "output_type": "stream",
     "text": [
      "20:  pumpkin takes an admirable look at the hypocrisy of political correctness , but it does so with such an uneven tone that you never know when humor ends and tragedy begins .  label:  0 prediction:  1\n",
      "22:  holden caulfield did it better .  label:  0 prediction:  1\n",
      "33:  if the movie succeeds in instilling a wary sense of ` there but for the grace of god , ' it is far too self-conscious to draw you deeply into its world .  label:  0 prediction:  1\n",
      "37:  ( w ) hile long on amiable monkeys and worthy environmentalism , jane goodall 's wild chimpanzees is short on the thrills the oversize medium demands .  label:  0 prediction:  1\n",
      "83:  though it 's become almost redundant to say so , major kudos go to leigh for actually casting people who look working-class .  label:  1 prediction:  0\n",
      "92:  you wo n't like roger , but you will quickly recognize him .  label:  0 prediction:  1\n",
      "93:  if steven soderbergh 's ` solaris ' is a failure it is a glorious failure .  label:  1 prediction:  0\n",
      "95:  this riveting world war ii moral suspense story deals with the shadow side of american culture : racial prejudice in its ugly and diverse forms .  label:  0 prediction:  1\n",
      "97:  no sophomore slump for director sam mendes , who segues from oscar winner to oscar-winning potential with a smooth sleight of hand .  label:  1 prediction:  0\n",
      "112:  hilariously inept and ridiculous .  label:  1 prediction:  0\n",
      "118:  every nanosecond of the the new guy reminds you that you could be doing something else far more pleasurable .  label:  0 prediction:  1\n",
      "121:  it seems to me the film is about the art of ripping people off without ever letting them consciously know you have done so  label:  0 prediction:  1\n",
      "123:  turns potentially forgettable formula into something strangely diverting .  label:  1 prediction:  0\n",
      "142:  what better message than ` love thyself ' could young women of any size receive ?  label:  1 prediction:  0\n",
      "145:  the best that can be said about the work here of scottish director ritchie ... is that he obviously does n't have his heart in it .  label:  0 prediction:  1\n",
      "171:  rarely has leukemia looked so shimmering and benign .  label:  0 prediction:  1\n",
      "172:  it seems like i have been waiting my whole life for this movie and now i ca n't wait for the sequel .  label:  1 prediction:  0\n",
      "173:  determined to be fun , and bouncy , with energetic musicals , the humor did n't quite engage this adult .  label:  0 prediction:  1\n",
      "183:  the lower your expectations , the more you 'll enjoy it .  label:  0 prediction:  1\n",
      "196:  so , too , is this comedy about mild culture clashing in today 's new delhi .  label:  1 prediction:  0\n",
      "205:  falls neatly into the category of good stupid fun .  label:  1 prediction:  0\n",
      "211:  to say this was done better in wilder 's some like it hot is like saying the sun rises in the east .  label:  0 prediction:  1\n",
      "215:  the best revenge may just be living well because this film , unlike other dumas adaptations , is far more likened to a treasure than a lengthy jail sentence .  label:  1 prediction:  0\n",
      "218:  all that 's missing is the spontaneity , originality and delight .  label:  0 prediction:  1\n",
      "248:  a full world has been presented onscreen , not some series of carefully structured plot points building to a pat resolution .  label:  1 prediction:  0\n",
      "266:  a coda in every sense , the pinochet case splits time between a minute-by-minute account of the british court 's extradition chess game and the regime 's talking-head survivors .  label:  1 prediction:  0\n",
      "267:  it 's played in the most straight-faced fashion , with little humor to lighten things up .  label:  0 prediction:  1\n",
      "271:  as unseemly as its title suggests .  label:  1 prediction:  0\n",
      "273:  minority report is exactly what the title indicates , a report .  label:  1 prediction:  0\n",
      "292:  the story and the friendship proceeds in such a way that you 're watching a soap opera rather than a chronicle of the ups and downs that accompany lifelong friendships .  label:  0 prediction:  1\n",
      "301:  the x potion gives the quickly named blossom , bubbles and buttercup supernatural powers that include extraordinary strength and laser-beam eyes , which unfortunately do n't enable them to discern flimsy screenplays .  label:  0 prediction:  1\n",
      "310:  if you can stomach the rough content , it 's worth checking out for the performances alone .  label:  1 prediction:  0\n",
      "312:  i 'll bet the video game is a lot more fun than the film .  label:  0 prediction:  1\n",
      "324:  you 'll gasp appalled and laugh outraged and possibly , watching the spectacle of a promising young lad treading desperately in a nasty sea , shed an errant tear .  label:  1 prediction:  0\n",
      "375:  we have n't seen such hilarity since say it is n't so !  label:  1 prediction:  0\n",
      "382:  a great ensemble cast ca n't lift this heartfelt enterprise out of the familiar .  label:  0 prediction:  1\n",
      "448:  something akin to a japanese alice through the looking glass , except that it seems to take itself far more seriously .  label:  1 prediction:  0\n",
      "449:  oh come on .  label:  0 prediction:  1\n",
      "464:  intriguing documentary which is emotionally diluted by focusing on the story 's least interesting subject .  label:  1 prediction:  0\n",
      "478:  a by-the-numbers patient/doctor pic that covers all the usual ground  label:  0 prediction:  1\n",
      "487:  ( e ) ventually , every idea in this film is flushed down the latrine of heroism .  label:  0 prediction:  1\n",
      "494:  it showcases carvey 's talent for voices , but not nearly enough and not without taxing every drop of one 's patience to get to the good stuff .  label:  0 prediction:  1\n",
      "501:  harrison 's flowers puts its heart in the right place , but its brains are in no particular place at all .  label:  1 prediction:  0\n",
      "503:  dragonfly has no atmosphere , no tension -- nothing but costner , flailing away .  label:  0 prediction:  1\n",
      "519:  moretti 's compelling anatomy of grief and the difficult process of adapting to loss .  label:  0 prediction:  1\n",
      "527:  it has all the excitement of eating oatmeal .  label:  0 prediction:  1\n",
      "544:  although huppert 's intensity and focus has a raw exhilaration about it , the piano teacher is anything but fun .  label:  0 prediction:  1\n",
      "546:  on the heels of the ring comes a similarly morose and humorless horror movie that , although flawed , is to be commended for its straight-ahead approach to creepiness .  label:  1 prediction:  0\n",
      "558:  although german cooking does not come readily to mind when considering the world 's best cuisine , mostly martha could make deutchland a popular destination for hungry tourists .  label:  1 prediction:  0\n",
      "559:  if the first men in black was money , the second is small change .  label:  0 prediction:  1\n",
      "561:  another one of those estrogen overdose movies like `` divine secrets of the ya ya sisterhood , '' except that the writing , acting and character development are a lot better .  label:  1 prediction:  0\n",
      "575:  ( director ) o'fallon manages to put some lovely pictures up on the big screen , but his skill at telling a story -- he also contributed to the screenplay -- falls short .  label:  0 prediction:  1\n",
      "579:  every dance becomes about seduction , where backstabbing and betrayals are celebrated , and sex is currency .  label:  0 prediction:  1\n",
      "580:  it takes a certain kind of horror movie to qualify as ` worse than expected , ' but ghost ship somehow manages to do exactly that .  label:  0 prediction:  1\n",
      "583:  it 's just filler .  label:  0 prediction:  1\n",
      "600:  professionally speaking , it 's tempting to jump ship in january to avoid ridiculous schlock like this shoddy suspense thriller .  label:  0 prediction:  1\n",
      "604:  vera 's technical prowess ends up selling his film short ; he smoothes over hard truths even as he uncovers them .  label:  0 prediction:  1\n",
      "615:  as the latest bid in the tv-to-movie franchise game , i spy makes its big-screen entry with little of the nervy originality of its groundbreaking small-screen progenitor .  label:  0 prediction:  1\n",
      "617:  the so-inept - it 's - surreal dubbing ( featuring the voices of glenn close , regis philbin and breckin meyer ) brings back memories of cheesy old godzilla flicks .  label:  0 prediction:  1\n",
      "643:  the jabs it employs are short , carefully placed and dead-center .  label:  1 prediction:  0\n",
      "646:  the longer the movie goes , the worse it gets , but it 's actually pretty good in the first few minutes .  label:  0 prediction:  1\n",
      "656:  so much facile technique , such cute ideas , so little movie .  label:  1 prediction:  0\n",
      "667:  good film , but very glum .  label:  1 prediction:  0\n",
      "685:  no screen fantasy-adventure in recent memory has the showmanship of clones ' last 45 minutes .  label:  1 prediction:  0\n",
      "695:  sit through this one , and you wo n't need a magic watch to stop time ; your dvd player will do it for you .  label:  0 prediction:  1\n",
      "699:  ... routine , harmless diversion and little else .  label:  1 prediction:  0\n",
      "702:  the reality of the new live-action pinocchio he directed , cowrote and starred in borders on the grotesque .  label:  0 prediction:  1\n",
      "725:  ( grant 's ) bumbling magic takes over the film , and it turns out to be another winning star vehicle .  label:  1 prediction:  0\n",
      "728:  but taken as a stylish and energetic one-shot , the queen of the damned can not be said to suck .  label:  1 prediction:  0\n",
      "735:  the experience of going to a film festival is a rewarding one ; the experiencing of sampling one through this movie is not .  label:  0 prediction:  1\n",
      "736:  american chai encourages rueful laughter at stereotypes only an indian-american would recognize .  label:  0 prediction:  1\n",
      "749:  a working class `` us vs. them '' opera that leaves no heartstring untugged and no liberal cause unplundered .  label:  1 prediction:  0\n",
      "753:  it 's hard to imagine alan arkin being better than he is in this performance .  label:  1 prediction:  0\n",
      "760:  writer/director joe carnahan 's grimy crime drama is a manual of precinct cliches , but it moves fast enough to cover its clunky dialogue and lapses in logic .  label:  1 prediction:  0\n",
      "764:  movie fans , get ready to take off ... the other direction .  label:  0 prediction:  1\n",
      "770:  i do n't think i laughed out loud once .  label:  0 prediction:  1\n",
      "771:  very special effects , brilliantly bold colors and heightened reality ca n't hide the giant achilles ' heel in `` stuart little 2 `` : there 's just no story , folks .  label:  0 prediction:  1\n",
      "774:  when the film ended , i felt tired and drained and wanted to lie on my own deathbed for a while .  label:  0 prediction:  1\n",
      "788:  based on a devilishly witty script by heather mcgowan and niels mueller , the film gets great laughs , but never at the expense of its characters  label:  1 prediction:  0\n",
      "791:  it 's somewhat clumsy and too lethargically paced -- but its story about a mysterious creature with psychic abilities offers a solid build-up , a terrific climax , and some nice chills along the way .  label:  0 prediction:  1\n",
      "801:  this film seems thirsty for reflection , itself taking on adolescent qualities .  label:  0 prediction:  1\n",
      "805:  irwin is a man with enough charisma and audacity to carry a dozen films , but this particular result is ultimately held back from being something greater .  label:  0 prediction:  1\n",
      "832:  manages to show life in all of its banality when the intention is quite the opposite .  label:  0 prediction:  1\n",
      "842:  a better title , for all concerned , might be swept under the rug .  label:  0 prediction:  1\n",
      "862:  it 's inoffensive , cheerful , built to inspire the young people , set to an unending soundtrack of beach party pop numbers and aside from its remarkable camerawork and awesome scenery , it 's about as exciting as a sunburn .  label:  0 prediction:  1\n",
      "863:  while it 's genuinely cool to hear characters talk about early rap records ( sugar hill gang , etc. ) , the constant referencing of hip-hop arcana can alienate even the savviest audiences .  label:  0 prediction:  1\n",
      "865:  mcconaughey 's fun to watch , the dragons are okay , not much fire in the script .  label:  1 prediction:  0\n",
      "869:  a subject like this should inspire reaction in its audience ; the pianist does not .  label:  0 prediction:  1\n"
     ]
    }
   ],
   "source": [
    "model_idxs = []\n",
    "for i, pred in enumerate(rs0_swa_preds):\n",
    "    if og_labels[i] != pred:\n",
    "        print(f\"{i}: \", og_samples[i], \"label: \", og_labels[i], \"prediction: \", pred)"
   ]
  },
  {
   "cell_type": "markdown",
   "id": "better-guard",
   "metadata": {},
   "source": [
    "### Random Seed SWA 1"
   ]
  },
  {
   "cell_type": "code",
   "execution_count": 84,
   "id": "guided-blind",
   "metadata": {
    "collapsed": true,
    "jupyter": {
     "outputs_hidden": true
    }
   },
   "outputs": [
    {
     "name": "stdout",
     "output_type": "stream",
     "text": [
      "92:  you wo n't like roger , but you will quickly recognize him .  label:  0 prediction:  1\n",
      "93:  if steven soderbergh 's ` solaris ' is a failure it is a glorious failure .  label:  1 prediction:  0\n",
      "95:  this riveting world war ii moral suspense story deals with the shadow side of american culture : racial prejudice in its ugly and diverse forms .  label:  0 prediction:  1\n",
      "112:  hilariously inept and ridiculous .  label:  1 prediction:  0\n",
      "123:  turns potentially forgettable formula into something strangely diverting .  label:  1 prediction:  0\n",
      "183:  the lower your expectations , the more you 'll enjoy it .  label:  0 prediction:  1\n",
      "200:  the format gets used best ... to capture the dizzying heights achieved by motocross and bmx riders , whose balletic hotdogging occasionally ends in bone-crushing screwups .  label:  1 prediction:  0\n",
      "230:  reign of fire looks as if it was made without much thought -- and is best watched that way .  label:  1 prediction:  0\n",
      "266:  a coda in every sense , the pinochet case splits time between a minute-by-minute account of the british court 's extradition chess game and the regime 's talking-head survivors .  label:  1 prediction:  0\n",
      "267:  it 's played in the most straight-faced fashion , with little humor to lighten things up .  label:  0 prediction:  1\n",
      "271:  as unseemly as its title suggests .  label:  1 prediction:  0\n",
      "273:  minority report is exactly what the title indicates , a report .  label:  1 prediction:  0\n",
      "282:  while there 's something intrinsically funny about sir anthony hopkins saying ` get in the car , bitch , ' this jerry bruckheimer production has little else to offer  label:  1 prediction:  0\n",
      "358:  ( d ) oes n't bother being as cloying or preachy as equivalent evangelical christian movies -- maybe the filmmakers know that the likely audience will already be among the faithful .  label:  1 prediction:  0\n",
      "399:  if director michael dowse only superficially understands his characters , he does n't hold them in contempt .  label:  0 prediction:  1\n",
      "411:  i do n't mind having my heartstrings pulled , but do n't treat me like a fool .  label:  0 prediction:  1\n",
      "412:  the movie 's accumulated force still feels like an ugly knot tightening in your stomach .  label:  0 prediction:  1\n",
      "433:  the lion king was a roaring success when it was released eight years ago , but on imax it seems better , not just bigger .  label:  1 prediction:  0\n",
      "448:  something akin to a japanese alice through the looking glass , except that it seems to take itself far more seriously .  label:  1 prediction:  0\n",
      "464:  intriguing documentary which is emotionally diluted by focusing on the story 's least interesting subject .  label:  1 prediction:  0\n",
      "501:  harrison 's flowers puts its heart in the right place , but its brains are in no particular place at all .  label:  1 prediction:  0\n",
      "519:  moretti 's compelling anatomy of grief and the difficult process of adapting to loss .  label:  0 prediction:  1\n",
      "546:  on the heels of the ring comes a similarly morose and humorless horror movie that , although flawed , is to be commended for its straight-ahead approach to creepiness .  label:  1 prediction:  0\n",
      "561:  another one of those estrogen overdose movies like `` divine secrets of the ya ya sisterhood , '' except that the writing , acting and character development are a lot better .  label:  1 prediction:  0\n",
      "579:  every dance becomes about seduction , where backstabbing and betrayals are celebrated , and sex is currency .  label:  0 prediction:  1\n",
      "626:  this flick is about as cool and crowd-pleasing as a documentary can get .  label:  1 prediction:  0\n",
      "645:  the words , ` frankly , my dear , i do n't give a damn , ' have never been more appropriate .  label:  0 prediction:  1\n",
      "656:  so much facile technique , such cute ideas , so little movie .  label:  1 prediction:  0\n",
      "667:  good film , but very glum .  label:  1 prediction:  0\n",
      "673:  drops you into a dizzying , volatile , pressure-cooker of a situation that quickly snowballs out of control , while focusing on the what much more than the why .  label:  1 prediction:  0\n",
      "695:  sit through this one , and you wo n't need a magic watch to stop time ; your dvd player will do it for you .  label:  0 prediction:  1\n",
      "699:  ... routine , harmless diversion and little else .  label:  1 prediction:  0\n",
      "702:  the reality of the new live-action pinocchio he directed , cowrote and starred in borders on the grotesque .  label:  0 prediction:  1\n",
      "749:  a working class `` us vs. them '' opera that leaves no heartstring untugged and no liberal cause unplundered .  label:  1 prediction:  0\n",
      "760:  writer/director joe carnahan 's grimy crime drama is a manual of precinct cliches , but it moves fast enough to cover its clunky dialogue and lapses in logic .  label:  1 prediction:  0\n",
      "764:  movie fans , get ready to take off ... the other direction .  label:  0 prediction:  1\n",
      "782:  the structure the film takes may find matt damon and ben affleck once again looking for residuals as this officially completes a good will hunting trilogy that was never planned .  label:  1 prediction:  0\n",
      "791:  it 's somewhat clumsy and too lethargically paced -- but its story about a mysterious creature with psychic abilities offers a solid build-up , a terrific climax , and some nice chills along the way .  label:  0 prediction:  1\n",
      "823:  it wants to tweak them with a taste of tangy new humor .  label:  1 prediction:  0\n",
      "846:  an absurdist comedy about alienation , separation and loss .  label:  0 prediction:  1\n"
     ]
    }
   ],
   "source": [
    "model_idxs = []\n",
    "for i, pred in enumerate(rs1_swa_preds):\n",
    "    if og_labels[i] != pred:\n",
    "        print(f\"{i}: \", og_samples[i], \"label: \", og_labels[i], \"prediction: \", pred)"
   ]
  },
  {
   "cell_type": "markdown",
   "id": "inclusive-arnold",
   "metadata": {},
   "source": [
    "### Random Seed SWA 2"
   ]
  },
  {
   "cell_type": "code",
   "execution_count": 85,
   "id": "direct-midwest",
   "metadata": {
    "collapsed": true,
    "jupyter": {
     "outputs_hidden": true
    }
   },
   "outputs": [
    {
     "name": "stdout",
     "output_type": "stream",
     "text": [
      "92:  you wo n't like roger , but you will quickly recognize him .  label:  0 prediction:  1\n",
      "93:  if steven soderbergh 's ` solaris ' is a failure it is a glorious failure .  label:  1 prediction:  0\n",
      "95:  this riveting world war ii moral suspense story deals with the shadow side of american culture : racial prejudice in its ugly and diverse forms .  label:  0 prediction:  1\n",
      "112:  hilariously inept and ridiculous .  label:  1 prediction:  0\n",
      "121:  it seems to me the film is about the art of ripping people off without ever letting them consciously know you have done so  label:  0 prediction:  1\n",
      "158:  by getting myself wrapped up in the visuals and eccentricities of many of the characters , i found myself confused when it came time to get to the heart of the movie .  label:  0 prediction:  1\n",
      "171:  rarely has leukemia looked so shimmering and benign .  label:  0 prediction:  1\n",
      "183:  the lower your expectations , the more you 'll enjoy it .  label:  0 prediction:  1\n",
      "200:  the format gets used best ... to capture the dizzying heights achieved by motocross and bmx riders , whose balletic hotdogging occasionally ends in bone-crushing screwups .  label:  1 prediction:  0\n",
      "218:  all that 's missing is the spontaneity , originality and delight .  label:  0 prediction:  1\n",
      "230:  reign of fire looks as if it was made without much thought -- and is best watched that way .  label:  1 prediction:  0\n",
      "266:  a coda in every sense , the pinochet case splits time between a minute-by-minute account of the british court 's extradition chess game and the regime 's talking-head survivors .  label:  1 prediction:  0\n",
      "271:  as unseemly as its title suggests .  label:  1 prediction:  0\n",
      "273:  minority report is exactly what the title indicates , a report .  label:  1 prediction:  0\n",
      "274:  it 's hard to like a film about a guy who is utterly unlikeable , and shiner , starring michael caine as an aging british boxing promoter desperate for a taste of fame and fortune , is certainly that .  label:  0 prediction:  1\n",
      "282:  while there 's something intrinsically funny about sir anthony hopkins saying ` get in the car , bitch , ' this jerry bruckheimer production has little else to offer  label:  1 prediction:  0\n",
      "358:  ( d ) oes n't bother being as cloying or preachy as equivalent evangelical christian movies -- maybe the filmmakers know that the likely audience will already be among the faithful .  label:  1 prediction:  0\n",
      "399:  if director michael dowse only superficially understands his characters , he does n't hold them in contempt .  label:  0 prediction:  1\n",
      "411:  i do n't mind having my heartstrings pulled , but do n't treat me like a fool .  label:  0 prediction:  1\n",
      "433:  the lion king was a roaring success when it was released eight years ago , but on imax it seems better , not just bigger .  label:  1 prediction:  0\n",
      "464:  intriguing documentary which is emotionally diluted by focusing on the story 's least interesting subject .  label:  1 prediction:  0\n",
      "494:  it showcases carvey 's talent for voices , but not nearly enough and not without taxing every drop of one 's patience to get to the good stuff .  label:  0 prediction:  1\n",
      "501:  harrison 's flowers puts its heart in the right place , but its brains are in no particular place at all .  label:  1 prediction:  0\n",
      "519:  moretti 's compelling anatomy of grief and the difficult process of adapting to loss .  label:  0 prediction:  1\n",
      "546:  on the heels of the ring comes a similarly morose and humorless horror movie that , although flawed , is to be commended for its straight-ahead approach to creepiness .  label:  1 prediction:  0\n",
      "561:  another one of those estrogen overdose movies like `` divine secrets of the ya ya sisterhood , '' except that the writing , acting and character development are a lot better .  label:  1 prediction:  0\n",
      "579:  every dance becomes about seduction , where backstabbing and betrayals are celebrated , and sex is currency .  label:  0 prediction:  1\n",
      "656:  so much facile technique , such cute ideas , so little movie .  label:  1 prediction:  0\n",
      "667:  good film , but very glum .  label:  1 prediction:  0\n",
      "673:  drops you into a dizzying , volatile , pressure-cooker of a situation that quickly snowballs out of control , while focusing on the what much more than the why .  label:  1 prediction:  0\n",
      "685:  no screen fantasy-adventure in recent memory has the showmanship of clones ' last 45 minutes .  label:  1 prediction:  0\n",
      "691:  an effectively creepy , fear-inducing ( not fear-reducing ) film from japanese director hideo nakata , who takes the superstitious curse on chain letters and actually applies it .  label:  1 prediction:  0\n",
      "695:  sit through this one , and you wo n't need a magic watch to stop time ; your dvd player will do it for you .  label:  0 prediction:  1\n",
      "699:  ... routine , harmless diversion and little else .  label:  1 prediction:  0\n",
      "724:  it 's everything you do n't go to the movies for .  label:  0 prediction:  1\n",
      "749:  a working class `` us vs. them '' opera that leaves no heartstring untugged and no liberal cause unplundered .  label:  1 prediction:  0\n",
      "760:  writer/director joe carnahan 's grimy crime drama is a manual of precinct cliches , but it moves fast enough to cover its clunky dialogue and lapses in logic .  label:  1 prediction:  0\n",
      "764:  movie fans , get ready to take off ... the other direction .  label:  0 prediction:  1\n",
      "782:  the structure the film takes may find matt damon and ben affleck once again looking for residuals as this officially completes a good will hunting trilogy that was never planned .  label:  1 prediction:  0\n",
      "791:  it 's somewhat clumsy and too lethargically paced -- but its story about a mysterious creature with psychic abilities offers a solid build-up , a terrific climax , and some nice chills along the way .  label:  0 prediction:  1\n",
      "827:  the movie , directed by mick jackson , leaves no cliche unturned , from the predictable plot to the characters straight out of central casting .  label:  0 prediction:  1\n",
      "832:  manages to show life in all of its banality when the intention is quite the opposite .  label:  0 prediction:  1\n",
      "846:  an absurdist comedy about alienation , separation and loss .  label:  0 prediction:  1\n",
      "850:  miller is playing so free with emotions , and the fact that children are hostages to fortune , that he makes the audience hostage to his swaggering affectation of seriousness .  label:  1 prediction:  0\n"
     ]
    }
   ],
   "source": [
    "model_idxs = []\n",
    "for i, pred in enumerate(rs2_swa_preds):\n",
    "    if og_labels[i] != pred:\n",
    "        print(f\"{i}: \", og_samples[i], \"label: \", og_labels[i], \"prediction: \", pred)"
   ]
  },
  {
   "cell_type": "markdown",
   "id": "opposite-wednesday",
   "metadata": {},
   "source": [
    "### Random Seed SWA 3"
   ]
  },
  {
   "cell_type": "code",
   "execution_count": 86,
   "id": "deadly-receiver",
   "metadata": {
    "collapsed": true,
    "jupyter": {
     "outputs_hidden": true
    }
   },
   "outputs": [
    {
     "name": "stdout",
     "output_type": "stream",
     "text": [
      "92:  you wo n't like roger , but you will quickly recognize him .  label:  0 prediction:  1\n",
      "93:  if steven soderbergh 's ` solaris ' is a failure it is a glorious failure .  label:  1 prediction:  0\n",
      "95:  this riveting world war ii moral suspense story deals with the shadow side of american culture : racial prejudice in its ugly and diverse forms .  label:  0 prediction:  1\n",
      "112:  hilariously inept and ridiculous .  label:  1 prediction:  0\n",
      "123:  turns potentially forgettable formula into something strangely diverting .  label:  1 prediction:  0\n",
      "171:  rarely has leukemia looked so shimmering and benign .  label:  0 prediction:  1\n",
      "183:  the lower your expectations , the more you 'll enjoy it .  label:  0 prediction:  1\n",
      "200:  the format gets used best ... to capture the dizzying heights achieved by motocross and bmx riders , whose balletic hotdogging occasionally ends in bone-crushing screwups .  label:  1 prediction:  0\n",
      "218:  all that 's missing is the spontaneity , originality and delight .  label:  0 prediction:  1\n",
      "230:  reign of fire looks as if it was made without much thought -- and is best watched that way .  label:  1 prediction:  0\n",
      "266:  a coda in every sense , the pinochet case splits time between a minute-by-minute account of the british court 's extradition chess game and the regime 's talking-head survivors .  label:  1 prediction:  0\n",
      "271:  as unseemly as its title suggests .  label:  1 prediction:  0\n",
      "273:  minority report is exactly what the title indicates , a report .  label:  1 prediction:  0\n",
      "274:  it 's hard to like a film about a guy who is utterly unlikeable , and shiner , starring michael caine as an aging british boxing promoter desperate for a taste of fame and fortune , is certainly that .  label:  0 prediction:  1\n",
      "282:  while there 's something intrinsically funny about sir anthony hopkins saying ` get in the car , bitch , ' this jerry bruckheimer production has little else to offer  label:  1 prediction:  0\n",
      "358:  ( d ) oes n't bother being as cloying or preachy as equivalent evangelical christian movies -- maybe the filmmakers know that the likely audience will already be among the faithful .  label:  1 prediction:  0\n",
      "399:  if director michael dowse only superficially understands his characters , he does n't hold them in contempt .  label:  0 prediction:  1\n",
      "411:  i do n't mind having my heartstrings pulled , but do n't treat me like a fool .  label:  0 prediction:  1\n",
      "412:  the movie 's accumulated force still feels like an ugly knot tightening in your stomach .  label:  0 prediction:  1\n",
      "464:  intriguing documentary which is emotionally diluted by focusing on the story 's least interesting subject .  label:  1 prediction:  0\n",
      "501:  harrison 's flowers puts its heart in the right place , but its brains are in no particular place at all .  label:  1 prediction:  0\n",
      "519:  moretti 's compelling anatomy of grief and the difficult process of adapting to loss .  label:  0 prediction:  1\n",
      "561:  another one of those estrogen overdose movies like `` divine secrets of the ya ya sisterhood , '' except that the writing , acting and character development are a lot better .  label:  1 prediction:  0\n",
      "579:  every dance becomes about seduction , where backstabbing and betrayals are celebrated , and sex is currency .  label:  0 prediction:  1\n",
      "645:  the words , ` frankly , my dear , i do n't give a damn , ' have never been more appropriate .  label:  0 prediction:  1\n",
      "648:  further proof that the epicenter of cool , beautiful , thought-provoking foreign cinema is smack-dab in the middle of dubya 's axis of evil .  label:  1 prediction:  0\n",
      "656:  so much facile technique , such cute ideas , so little movie .  label:  1 prediction:  0\n",
      "670:  verbinski implements every hack-artist trick to give us the ooky-spookies .  label:  0 prediction:  1\n",
      "673:  drops you into a dizzying , volatile , pressure-cooker of a situation that quickly snowballs out of control , while focusing on the what much more than the why .  label:  1 prediction:  0\n",
      "685:  no screen fantasy-adventure in recent memory has the showmanship of clones ' last 45 minutes .  label:  1 prediction:  0\n",
      "695:  sit through this one , and you wo n't need a magic watch to stop time ; your dvd player will do it for you .  label:  0 prediction:  1\n",
      "699:  ... routine , harmless diversion and little else .  label:  1 prediction:  0\n",
      "702:  the reality of the new live-action pinocchio he directed , cowrote and starred in borders on the grotesque .  label:  0 prediction:  1\n",
      "749:  a working class `` us vs. them '' opera that leaves no heartstring untugged and no liberal cause unplundered .  label:  1 prediction:  0\n",
      "764:  movie fans , get ready to take off ... the other direction .  label:  0 prediction:  1\n",
      "771:  very special effects , brilliantly bold colors and heightened reality ca n't hide the giant achilles ' heel in `` stuart little 2 `` : there 's just no story , folks .  label:  0 prediction:  1\n",
      "782:  the structure the film takes may find matt damon and ben affleck once again looking for residuals as this officially completes a good will hunting trilogy that was never planned .  label:  1 prediction:  0\n",
      "791:  it 's somewhat clumsy and too lethargically paced -- but its story about a mysterious creature with psychic abilities offers a solid build-up , a terrific climax , and some nice chills along the way .  label:  0 prediction:  1\n",
      "823:  it wants to tweak them with a taste of tangy new humor .  label:  1 prediction:  0\n",
      "846:  an absurdist comedy about alienation , separation and loss .  label:  0 prediction:  1\n"
     ]
    }
   ],
   "source": [
    "model_idxs = []\n",
    "for i, pred in enumerate(rs3_swa_preds):\n",
    "    if og_labels[i] != pred:\n",
    "        print(f\"{i}: \", og_samples[i], \"label: \", og_labels[i], \"prediction: \", pred)"
   ]
  },
  {
   "cell_type": "markdown",
   "id": "focal-roller",
   "metadata": {},
   "source": [
    "### Random Seed SWA 4"
   ]
  },
  {
   "cell_type": "code",
   "execution_count": 87,
   "id": "unnecessary-order",
   "metadata": {
    "collapsed": true,
    "jupyter": {
     "outputs_hidden": true
    }
   },
   "outputs": [
    {
     "name": "stdout",
     "output_type": "stream",
     "text": [
      "92:  you wo n't like roger , but you will quickly recognize him .  label:  0 prediction:  1\n",
      "93:  if steven soderbergh 's ` solaris ' is a failure it is a glorious failure .  label:  1 prediction:  0\n",
      "95:  this riveting world war ii moral suspense story deals with the shadow side of american culture : racial prejudice in its ugly and diverse forms .  label:  0 prediction:  1\n",
      "112:  hilariously inept and ridiculous .  label:  1 prediction:  0\n",
      "115:  sam mendes has become valedictorian at the school for soft landings and easy ways out .  label:  0 prediction:  1\n",
      "171:  rarely has leukemia looked so shimmering and benign .  label:  0 prediction:  1\n",
      "183:  the lower your expectations , the more you 'll enjoy it .  label:  0 prediction:  1\n",
      "189:  its story may be a thousand years old , but why did it have to seem like it took another thousand to tell it to us ?  label:  0 prediction:  1\n",
      "200:  the format gets used best ... to capture the dizzying heights achieved by motocross and bmx riders , whose balletic hotdogging occasionally ends in bone-crushing screwups .  label:  1 prediction:  0\n",
      "230:  reign of fire looks as if it was made without much thought -- and is best watched that way .  label:  1 prediction:  0\n",
      "266:  a coda in every sense , the pinochet case splits time between a minute-by-minute account of the british court 's extradition chess game and the regime 's talking-head survivors .  label:  1 prediction:  0\n",
      "267:  it 's played in the most straight-faced fashion , with little humor to lighten things up .  label:  0 prediction:  1\n",
      "271:  as unseemly as its title suggests .  label:  1 prediction:  0\n",
      "273:  minority report is exactly what the title indicates , a report .  label:  1 prediction:  0\n",
      "274:  it 's hard to like a film about a guy who is utterly unlikeable , and shiner , starring michael caine as an aging british boxing promoter desperate for a taste of fame and fortune , is certainly that .  label:  0 prediction:  1\n",
      "282:  while there 's something intrinsically funny about sir anthony hopkins saying ` get in the car , bitch , ' this jerry bruckheimer production has little else to offer  label:  1 prediction:  0\n",
      "301:  the x potion gives the quickly named blossom , bubbles and buttercup supernatural powers that include extraordinary strength and laser-beam eyes , which unfortunately do n't enable them to discern flimsy screenplays .  label:  0 prediction:  1\n",
      "324:  you 'll gasp appalled and laugh outraged and possibly , watching the spectacle of a promising young lad treading desperately in a nasty sea , shed an errant tear .  label:  1 prediction:  0\n",
      "399:  if director michael dowse only superficially understands his characters , he does n't hold them in contempt .  label:  0 prediction:  1\n",
      "412:  the movie 's accumulated force still feels like an ugly knot tightening in your stomach .  label:  0 prediction:  1\n",
      "433:  the lion king was a roaring success when it was released eight years ago , but on imax it seems better , not just bigger .  label:  1 prediction:  0\n",
      "447:  generally , clockstoppers will fulfill your wildest fantasies about being a different kind of time traveler , while happily killing 94 minutes .  label:  1 prediction:  0\n",
      "464:  intriguing documentary which is emotionally diluted by focusing on the story 's least interesting subject .  label:  1 prediction:  0\n",
      "495:  light years / several warp speeds / levels and levels of dilithium crystals better than the pitiful insurrection .  label:  1 prediction:  0\n",
      "501:  harrison 's flowers puts its heart in the right place , but its brains are in no particular place at all .  label:  1 prediction:  0\n",
      "515:  if looking for a thrilling sci-fi cinematic ride , do n't settle for this imposter .  label:  0 prediction:  1\n",
      "519:  moretti 's compelling anatomy of grief and the difficult process of adapting to loss .  label:  0 prediction:  1\n",
      "561:  another one of those estrogen overdose movies like `` divine secrets of the ya ya sisterhood , '' except that the writing , acting and character development are a lot better .  label:  1 prediction:  0\n",
      "579:  every dance becomes about seduction , where backstabbing and betrayals are celebrated , and sex is currency .  label:  0 prediction:  1\n",
      "645:  the words , ` frankly , my dear , i do n't give a damn , ' have never been more appropriate .  label:  0 prediction:  1\n",
      "656:  so much facile technique , such cute ideas , so little movie .  label:  1 prediction:  0\n",
      "667:  good film , but very glum .  label:  1 prediction:  0\n",
      "673:  drops you into a dizzying , volatile , pressure-cooker of a situation that quickly snowballs out of control , while focusing on the what much more than the why .  label:  1 prediction:  0\n",
      "685:  no screen fantasy-adventure in recent memory has the showmanship of clones ' last 45 minutes .  label:  1 prediction:  0\n",
      "695:  sit through this one , and you wo n't need a magic watch to stop time ; your dvd player will do it for you .  label:  0 prediction:  1\n",
      "699:  ... routine , harmless diversion and little else .  label:  1 prediction:  0\n",
      "749:  a working class `` us vs. them '' opera that leaves no heartstring untugged and no liberal cause unplundered .  label:  1 prediction:  0\n",
      "760:  writer/director joe carnahan 's grimy crime drama is a manual of precinct cliches , but it moves fast enough to cover its clunky dialogue and lapses in logic .  label:  1 prediction:  0\n",
      "764:  movie fans , get ready to take off ... the other direction .  label:  0 prediction:  1\n",
      "782:  the structure the film takes may find matt damon and ben affleck once again looking for residuals as this officially completes a good will hunting trilogy that was never planned .  label:  1 prediction:  0\n",
      "785:  aside from minor tinkering , this is the same movie you probably loved in 1994 , except that it looks even better .  label:  1 prediction:  0\n",
      "791:  it 's somewhat clumsy and too lethargically paced -- but its story about a mysterious creature with psychic abilities offers a solid build-up , a terrific climax , and some nice chills along the way .  label:  0 prediction:  1\n",
      "805:  irwin is a man with enough charisma and audacity to carry a dozen films , but this particular result is ultimately held back from being something greater .  label:  0 prediction:  1\n",
      "823:  it wants to tweak them with a taste of tangy new humor .  label:  1 prediction:  0\n",
      "832:  manages to show life in all of its banality when the intention is quite the opposite .  label:  0 prediction:  1\n",
      "846:  an absurdist comedy about alienation , separation and loss .  label:  0 prediction:  1\n",
      "850:  miller is playing so free with emotions , and the fact that children are hostages to fortune , that he makes the audience hostage to his swaggering affectation of seriousness .  label:  1 prediction:  0\n"
     ]
    }
   ],
   "source": [
    "for i, pred in enumerate(rs4_swa_preds):\n",
    "    if og_labels[i] != pred:\n",
    "        print(f\"{i}: \", og_samples[i], \"label: \", og_labels[i], \"prediction: \", pred)"
   ]
  },
  {
   "cell_type": "markdown",
   "id": "retained-discussion",
   "metadata": {},
   "source": [
    "## Fleiss' Kappa"
   ]
  },
  {
   "cell_type": "markdown",
   "id": "ecological-gospel",
   "metadata": {},
   "source": [
    "### Agreement on predictions of the vanilla models\n",
    "We measure the Fleiss' Kappa agreement on all the predictions of the vanilla models."
   ]
  },
  {
   "cell_type": "code",
   "execution_count": 27,
   "id": "subtle-bargain",
   "metadata": {},
   "outputs": [
    {
     "data": {
      "text/plain": [
       "0.9258441643835617"
      ]
     },
     "execution_count": 27,
     "metadata": {},
     "output_type": "execute_result"
    }
   ],
   "source": [
    "# Uncomment this for predictions with all random seeds. \n",
    "# vanilla_preds = [rs0_preds, rs1_preds, rs2_preds, rs3_preds, rs4_preds, rs5_preds, rs6_preds, rs7_preds, rs8_preds, rs9_preds]\n",
    "\n",
    "# Uncomment this for predictions with all random seeds, except random seed 0. \n",
    "# vanilla_preds = [rs1_preds, rs2_preds, rs3_preds, rs4_preds, rs5_preds, rs6_preds, rs7_preds, rs8_preds, rs9_preds]\n",
    "\n",
    "# Uncomment this for predictions with initial five random seeds. \n",
    "# vanilla_preds = [rs0_preds, rs1_preds, rs2_preds, rs3_preds, rs4_preds]\n",
    "\n",
    "# Uncomment this for predictions with initial four random seeds, so no random seed 0. \n",
    "vanilla_preds = [rs1_preds, rs2_preds, rs3_preds, rs4_preds]\n",
    "\n",
    "triples = []\n",
    "for i, preds in enumerate(vanilla_preds):\n",
    "    for j, pred in enumerate(preds): \n",
    "        triples.append((i, j, pred))\n",
    "\n",
    "AnnotationTask(data=triples).multi_kappa()"
   ]
  },
  {
   "cell_type": "markdown",
   "id": "dietary-vampire",
   "metadata": {},
   "source": [
    "### Agreement on predictions of the SWA models\n",
    "We measure the Fleiss' Kappa agreement on all the predictions of the SWA models."
   ]
  },
  {
   "cell_type": "code",
   "execution_count": 28,
   "id": "allied-projector",
   "metadata": {},
   "outputs": [
    {
     "data": {
      "text/plain": [
       "0.9537450418570723"
      ]
     },
     "execution_count": 28,
     "metadata": {},
     "output_type": "execute_result"
    }
   ],
   "source": [
    "# Uncomment this for predictions with all random seeds. \n",
    "# swa_preds = [rs0_swa_preds, rs1_swa_preds, rs2_swa_preds, rs3_swa_preds, rs4_swa_preds, rs5_swa_preds, rs6_swa_preds, rs7_swa_preds, rs8_swa_preds, rs9_swa_preds]\n",
    "\n",
    "# Uncomment this for predictions with all random seeds, except random seed 0. \n",
    "# swa_preds = [rs1_swa_preds, rs2_swa_preds, rs3_swa_preds, rs4_swa_preds, rs5_swa_preds, rs6_swa_preds, rs7_swa_preds, rs8_swa_preds, rs9_swa_preds]\n",
    "\n",
    "# Uncomment this for predictions with initial five random seeds. \n",
    "# swa_preds = [rs0_swa_preds, rs1_swa_preds, rs2_swa_preds, rs3_swa_preds, rs4_swa_preds]\n",
    "\n",
    "# Uncomment this for predictions with initial four random seeds, so no random seed 0. \n",
    "swa_preds = [rs1_swa_preds, rs2_swa_preds, rs3_swa_preds, rs4_swa_preds]\n",
    "\n",
    "triples = []\n",
    "for i, preds in enumerate(swa_preds):\n",
    "    for j, pred in enumerate(preds): \n",
    "        triples.append((i, j, pred))\n",
    "\n",
    "AnnotationTask(data=triples).multi_kappa()"
   ]
  },
  {
   "cell_type": "markdown",
   "id": "disabled-mediterranean",
   "metadata": {},
   "source": [
    "### Agreement on mistakes of the vanilla models\n",
    "We measure the Fleiss' Kappa agreement on all the mistakes of the vanilla models."
   ]
  },
  {
   "cell_type": "code",
   "execution_count": 29,
   "id": "random-favor",
   "metadata": {},
   "outputs": [
    {
     "data": {
      "text/plain": [
       "0.22672487425263324"
      ]
     },
     "execution_count": 29,
     "metadata": {},
     "output_type": "execute_result"
    }
   ],
   "source": [
    "# Agreement on mistakes of the vanilla models\n",
    "vanilla_mistakes_idxs = []\n",
    "for model_preds in vanilla_preds: \n",
    "    model_idxs = []\n",
    "    for i, pred in enumerate(model_preds):\n",
    "        if og_labels[i] != pred:\n",
    "            model_idxs.append(i)\n",
    "    vanilla_mistakes_idxs.extend(model_idxs)\n",
    "    \n",
    "vanilla_mistakes_idxs_count = Counter(vanilla_mistakes_idxs)\n",
    "\n",
    "triples = []\n",
    "vanilla_mistakes_idxs = list(set(vanilla_mistakes_idxs))\n",
    "for i, preds in enumerate(vanilla_preds):\n",
    "    for j in vanilla_mistakes_idxs: \n",
    "        triples.append((i, j, preds[j]))\n",
    "\n",
    "AnnotationTask(data=triples).multi_kappa()"
   ]
  },
  {
   "cell_type": "markdown",
   "id": "sought-immune",
   "metadata": {},
   "source": [
    "### Agreement on mistakes of the SWA models\n",
    "We measure the Fleiss' Kappa agreement on all the mistakes of the SWA models."
   ]
  },
  {
   "cell_type": "code",
   "execution_count": 30,
   "id": "interpreted-summary",
   "metadata": {},
   "outputs": [
    {
     "data": {
      "text/plain": [
       "0.3603171980835949"
      ]
     },
     "execution_count": 30,
     "metadata": {},
     "output_type": "execute_result"
    }
   ],
   "source": [
    "swa_mistakes_idxs = []\n",
    "for model_preds in swa_preds: \n",
    "    model_idxs = []\n",
    "    for i, pred in enumerate(model_preds):\n",
    "        if og_labels[i] != pred:\n",
    "            model_idxs.append(i)\n",
    "    swa_mistakes_idxs.extend(model_idxs)\n",
    "    \n",
    "swa_mistakes_idxs_count = Counter(swa_mistakes_idxs)\n",
    "            \n",
    "triples = []\n",
    "swa_mistakes_idxs = list(set(swa_mistakes_idxs))\n",
    "for i, preds in enumerate(swa_preds):\n",
    "    for j in swa_mistakes_idxs: \n",
    "        triples.append((i, j, preds[j]))\n",
    "\n",
    "AnnotationTask(data=triples).multi_kappa()"
   ]
  }
 ],
 "metadata": {
  "kernelspec": {
   "display_name": "Python 3 (ipykernel)",
   "language": "python",
   "name": "python3"
  },
  "language_info": {
   "codemirror_mode": {
    "name": "ipython",
    "version": 3
   },
   "file_extension": ".py",
   "mimetype": "text/x-python",
   "name": "python",
   "nbconvert_exporter": "python",
   "pygments_lexer": "ipython3",
   "version": "3.7.11"
  }
 },
 "nbformat": 4,
 "nbformat_minor": 5
}
